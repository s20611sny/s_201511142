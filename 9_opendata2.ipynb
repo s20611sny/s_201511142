{
 "cells": [
  {
   "cell_type": "code",
   "execution_count": 5,
   "metadata": {
    "collapsed": false
   },
   "outputs": [
    {
     "name": "stdout",
     "output_type": "stream",
     "text": [
      "gokr= fUj64CzgHpmRAZj7ninvjNBrjTx4zX5ZsBTp6DpK8SF6JqaZPlSgM440BVRAaJjNuyHgXNYCE6c6fHhD3pxgGw%3D%3D\n",
      "dataseoul= 7a7468675373323037336262587066\n"
     ]
    }
   ],
   "source": [
    "import os\n",
    "import src.mylib\n",
    "KEY=src.mylib.getKey(os.path.join('src','key.properties'))\n",
    "print 'gokr=' ,KEY['gokr']\n",
    "print 'dataseoul=' ,KEY['dataseoul']"
   ]
  },
  {
   "cell_type": "code",
   "execution_count": 1,
   "metadata": {
    "collapsed": false
   },
   "outputs": [
    {
     "name": "stdout",
     "output_type": "stream",
     "text": [
      "Overwriting src/ds_open_dataseoul_ex.py\n"
     ]
    }
   ],
   "source": [
    "%%writefile src/ds_open_dataseoul_ex.py\n",
    "# coding: utf-8\n",
    "import os\n",
    "import requests\n",
    "import urlparse\n",
    "import mylib\n",
    "\n",
    "def doIt():\n",
    "    keyPath=os.path.join(os.getcwd(), 'src', 'key.properties') \n",
    "    key=mylib.getKey(keyPath)\n",
    "    # (1) make params with resource IDs\n",
    "    KEY=key['dataseoul']\n",
    "    TYPE='json'\n",
    "    SERVICE='SearchSTNBySubwayLineService'\n",
    "    START_INDEX=str(1)\n",
    "    END_INDEX=str(10)\n",
    "    LINE_NUM=str(2)\n",
    "    params='/'+KEY+'/'+TYPE+'/'+SERVICE+'/'+START_INDEX+'/'+END_INDEX+'/'+LINE_NUM\n",
    "    # (2) make a full url\n",
    "    _url='http://openAPI.seoul.go.kr:8088/'\n",
    "    url=urlparse.urljoin(_url,params)\n",
    "    # (3) get data\n",
    "    data=requests.get(url).text\n",
    "    print data[:300]\n",
    "\n",
    "if __name__ == \"__main__\":\n",
    "    doIt()"
   ]
  },
  {
   "cell_type": "code",
   "execution_count": 7,
   "metadata": {
    "collapsed": false
   },
   "outputs": [
    {
     "data": {
      "text/plain": [
       "u'D:\\\\Code\\\\201511142'"
      ]
     },
     "execution_count": 7,
     "metadata": {},
     "output_type": "execute_result"
    }
   ],
   "source": [
    "pwd"
   ]
  },
  {
   "cell_type": "code",
   "execution_count": 8,
   "metadata": {
    "collapsed": false
   },
   "outputs": [
    {
     "name": "stderr",
     "output_type": "stream",
     "text": [
      "'ls'은(는) 내부 또는 외부 명령, 실행할 수 있는 프로그램, 또는\n",
      "배치 파일이 아닙니다.\n"
     ]
    }
   ],
   "source": [
    "!ls src"
   ]
  },
  {
   "cell_type": "code",
   "execution_count": 20,
   "metadata": {
    "collapsed": false
   },
   "outputs": [
    {
     "name": "stderr",
     "output_type": "stream",
     "text": [
      "Traceback (most recent call last):\n",
      "  File \"src/ds_open_dataseoul_ex.py\", line 26, in <module>\n",
      "    doIt()\n",
      "  File \"src/ds_open_dataseoul_ex.py\", line 23, in doIt\n",
      "    print data[:300]\n",
      "UnicodeEncodeError: 'ascii' codec can't encode characters in position 94-95: ordinal not in range(128)\n"
     ]
    }
   ],
   "source": [
    "!python src/ds_open_dataseoul_ex.py"
   ]
  }
 ],
 "metadata": {
  "kernelspec": {
   "display_name": "Python 2",
   "language": "python",
   "name": "python2"
  },
  "language_info": {
   "codemirror_mode": {
    "name": "ipython",
    "version": 2
   },
   "file_extension": ".py",
   "mimetype": "text/x-python",
   "name": "python",
   "nbconvert_exporter": "python",
   "pygments_lexer": "ipython2",
   "version": "2.7.13"
  }
 },
 "nbformat": 4,
 "nbformat_minor": 2
}
