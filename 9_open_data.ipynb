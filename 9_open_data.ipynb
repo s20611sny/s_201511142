{
 "cells": [
  {
   "cell_type": "code",
   "execution_count": 43,
   "metadata": {
    "collapsed": false
   },
   "outputs": [
    {
     "name": "stdout",
     "output_type": "stream",
     "text": [
      "Overwriting src/key.properties\n"
     ]
    }
   ],
   "source": [
    "%%writefile src/key.properties\n",
    "dataseoul=7a7468675373323037336262587066\n",
    "gokr=fUj64CzgHpmRAZj7ninvjNBrjTx4zX5ZsBTp6DpK8SF6JqaZPlSgM440BVRAaJjNuyHgXNYCE6c6fHhD3pxgGw%3D%3D"
   ]
  },
  {
   "cell_type": "code",
   "execution_count": null,
   "metadata": {
    "collapsed": false
   },
   "outputs": [],
   "source": [
    "# %load src/key.properties\n",
    "dataseoul=7a7468675373323037336262587066\n",
    "gokr=fUj64CzgHpmRAZj7ninvjNBrjTx4zX5ZsBTp6DpK8SF6JqaZPlSgM440BVRAaJjNuyHgXNYCE6c6fHhD3pxgGw%3D%3D"
   ]
  },
  {
   "cell_type": "code",
   "execution_count": 63,
   "metadata": {
    "collapsed": false
   },
   "outputs": [
    {
     "name": "stdout",
     "output_type": "stream",
     "text": [
      "Overwriting src/mylib.py\n"
     ]
    }
   ],
   "source": [
    "%%writefile src/mylib.py\n",
    "import os\n",
    "def sayHello():\n",
    "    print \"hello\"\n",
    "def sayHello2():\n",
    "    print \"hello2\"\n",
    "def getKey(keyPath):\n",
    "    d=dict()\n",
    "    keyPath=os.path.join('src','key.properties')\n",
    "    f=open(keyPath,'r')  \n",
    "    for line in f.readlines():\n",
    "        row=line.split('=')\n",
    "        row0=row[0]\n",
    "        d[row0]=row[1].strip()\n",
    "    return d"
   ]
  },
  {
   "cell_type": "code",
   "execution_count": 5,
   "metadata": {
    "collapsed": false
   },
   "outputs": [
    {
     "data": {
      "text/plain": [
       "u'D:\\\\Code\\\\201511142'"
      ]
     },
     "execution_count": 5,
     "metadata": {},
     "output_type": "execute_result"
    }
   ],
   "source": [
    "pwd"
   ]
  },
  {
   "cell_type": "code",
   "execution_count": 6,
   "metadata": {
    "collapsed": false
   },
   "outputs": [
    {
     "name": "stdout",
     "output_type": "stream",
     "text": [
      " D 드라이브의 볼륨에는 이름이 없습니다.\n",
      "\n",
      " D:\\Code\\201511142\\src 디렉터리\n",
      "\n",
      "2017-03-21  오후 04:05    <DIR>          .\n",
      "2017-03-21  오후 04:05    <DIR>          ..\n",
      "2017-03-28  오후 04:19               949 my.xml\n",
      "2017-03-28  오후 04:22               233 mypage1.html\n",
      "2017-04-04  오후 04:36               374 ds_web_crawl_ieee.py\n",
      "2017-04-04  오후 04:08               614 ds_web_crawl_kbaseball.py\n",
      "2017-04-04  오후 04:54             5,445 mygoogle.html\n",
      "2017-04-11  오후 05:42                79 ds_save_mongo_test.js\n",
      "2017-04-11  오후 05:45               162 ds_save_mongo_5.js\n",
      "2017-04-18  오후 04:29               201 key.properties\n",
      "2017-04-18  오후 04:32                34 mylib.py\n",
      "               9개 파일               8,091 바이트\n",
      "               2개 디렉터리  11,339,120,640 바이트 남음\n"
     ]
    }
   ],
   "source": [
    "!dir src\\"
   ]
  },
  {
   "cell_type": "code",
   "execution_count": 4,
   "metadata": {
    "collapsed": false
   },
   "outputs": [
    {
     "name": "stderr",
     "output_type": "stream",
     "text": [
      "'ls'은(는) 내부 또는 외부 명령, 실행할 수 있는 프로그램, 또는\n",
      "배치 파일이 아닙니다.\n"
     ]
    }
   ],
   "source": [
    "!ls src/"
   ]
  },
  {
   "cell_type": "code",
   "execution_count": 16,
   "metadata": {
    "collapsed": false
   },
   "outputs": [
    {
     "name": "stdout",
     "output_type": "stream",
     "text": [
      "Writing src/__init__.py\n"
     ]
    }
   ],
   "source": [
    "%%writefile src/__init__.py\n",
    "import os"
   ]
  },
  {
   "cell_type": "code",
   "execution_count": 64,
   "metadata": {
    "collapsed": false,
    "scrolled": true
   },
   "outputs": [],
   "source": [
    "import sys\n",
    "del sys.modules['src.mylib'] #파일 지움"
   ]
  },
  {
   "cell_type": "code",
   "execution_count": 66,
   "metadata": {
    "collapsed": false
   },
   "outputs": [
    {
     "name": "stdout",
     "output_type": "stream",
     "text": [
      "hello\n",
      "hello2\n",
      "None\n"
     ]
    }
   ],
   "source": [
    "import src.mylib\n",
    "src.mylib.sayHello()\n",
    "print src.mylib.sayHello2()"
   ]
  },
  {
   "cell_type": "code",
   "execution_count": 65,
   "metadata": {
    "collapsed": true
   },
   "outputs": [],
   "source": [
    "import os\n",
    "import src.mylib\n",
    "\n",
    "keyPath=os.path.join(os.getcwd(), 'src', 'key.properties')\n",
    "key=src.mylib.getKey(keyPath)"
   ]
  },
  {
   "cell_type": "code",
   "execution_count": 69,
   "metadata": {
    "collapsed": false
   },
   "outputs": [
    {
     "name": "stdout",
     "output_type": "stream",
     "text": [
      "gokr= fUj64CzgHpmRAZj7ninvjNBrjTx4zX5ZsBTp6DpK8SF6JqaZPlSgM440BVRAaJjNuyHgXNYCE6c6fHhD3pxgGw%3D%3D\n",
      "dataseoul= 7a7468675373323037336262587066\n"
     ]
    }
   ],
   "source": [
    "import src.mylib\n",
    "KEY=src.mylib.getKey(os.path.join('src','key.properties'))\n",
    "print 'gokr=' ,KEY['gokr']\n",
    "print 'dataseoul=' ,KEY['dataseoul']"
   ]
  }
 ],
 "metadata": {
  "kernelspec": {
   "display_name": "Python 2",
   "language": "python",
   "name": "python2"
  },
  "language_info": {
   "codemirror_mode": {
    "name": "ipython",
    "version": 2
   },
   "file_extension": ".py",
   "mimetype": "text/x-python",
   "name": "python",
   "nbconvert_exporter": "python",
   "pygments_lexer": "ipython2",
   "version": "2.7.13"
  }
 },
 "nbformat": 4,
 "nbformat_minor": 2
}
